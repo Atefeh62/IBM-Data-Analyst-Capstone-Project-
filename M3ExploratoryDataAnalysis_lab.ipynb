{
  "cells": [
    {
      "cell_type": "markdown",
      "metadata": {
        "id": "view-in-github",
        "colab_type": "text"
      },
      "source": [
        "<a href=\"https://colab.research.google.com/github/Atefeh62/IBM-Data-Analyst-Capstone-Project-/blob/main/M3ExploratoryDataAnalysis_lab.ipynb\" target=\"_parent\"><img src=\"https://colab.research.google.com/assets/colab-badge.svg\" alt=\"Open In Colab\"/></a>"
      ]
    },
    {
      "cell_type": "markdown",
      "metadata": {
        "id": "P-co4aii5IMi"
      },
      "source": [
        "# **Exploratory Data Analysis Lab**\n",
        "\n",
        "# > Indented block\n",
        "\n",
        "\n"
      ]
    },
    {
      "cell_type": "markdown",
      "metadata": {
        "id": "d4NS_MF85IMk"
      },
      "source": [
        "Estimated time needed: **30** minutes\n"
      ]
    },
    {
      "cell_type": "markdown",
      "metadata": {
        "id": "8aD7i5MO5IMl"
      },
      "source": [
        "In this module you get to work with the cleaned dataset from the previous module.\n",
        "\n",
        "In this assignment you will perform the task of exploratory data analysis.\n",
        "You will find out the distribution of data, presence of outliers and also determine the correlation between different columns in the dataset.\n"
      ]
    },
    {
      "cell_type": "markdown",
      "metadata": {
        "id": "kU52YQLf5IMn"
      },
      "source": [
        "## Objectives\n"
      ]
    },
    {
      "cell_type": "markdown",
      "metadata": {
        "id": "qCW_5PzJ5IMp"
      },
      "source": [
        "In this lab you will perform the following:\n"
      ]
    },
    {
      "cell_type": "markdown",
      "metadata": {
        "id": "raidX1BR5IMr"
      },
      "source": [
        "*   Identify the distribution of data in the dataset.\n",
        "\n",
        "*   Identify outliers in the dataset.\n",
        "\n",
        "*   Remove outliers from the dataset.\n",
        "\n",
        "*   Identify correlation between features in the dataset.\n"
      ]
    },
    {
      "cell_type": "markdown",
      "metadata": {
        "id": "Tk7oYBdC5IMt"
      },
      "source": [
        "***\n"
      ]
    },
    {
      "cell_type": "markdown",
      "metadata": {
        "id": "7KFeblqr5IMv"
      },
      "source": [
        "## Hands on Lab\n"
      ]
    },
    {
      "cell_type": "markdown",
      "metadata": {
        "id": "n7eyc-2V5IMw"
      },
      "source": [
        "Import the pandas module.\n"
      ]
    },
    {
      "cell_type": "code",
      "execution_count": null,
      "metadata": {
        "id": "IfyvZmuu5IMx"
      },
      "outputs": [],
      "source": [
        "import pandas as pd\n",
        "import numpy as np\n",
        "import seaborn as sns"
      ]
    },
    {
      "cell_type": "markdown",
      "metadata": {
        "id": "RHjNAA5s5IM0"
      },
      "source": [
        "Load the dataset into a dataframe.\n"
      ]
    },
    {
      "cell_type": "code",
      "execution_count": null,
      "metadata": {
        "colab": {
          "base_uri": "https://localhost:8080/"
        },
        "id": "gB_WVmaW5IM1",
        "outputId": "6743e104-f11e-4f3e-fbdd-4f2c5408bfee"
      },
      "outputs": [
        {
          "output_type": "execute_result",
          "data": {
            "text/plain": [
              "(11398, 85)"
            ]
          },
          "metadata": {},
          "execution_count": 2
        }
      ],
      "source": [
        "df = pd.read_csv(\"https://cf-courses-data.s3.us.cloud-object-storage.appdomain.cloud/IBM-DA0321EN-SkillsNetwork/LargeData/m2_survey_data.csv\")\n",
        "df.shape"
      ]
    },
    {
      "cell_type": "markdown",
      "metadata": {
        "id": "3NlAXL_e5IM2"
      },
      "source": [
        "## Distribution\n"
      ]
    },
    {
      "cell_type": "markdown",
      "metadata": {
        "id": "Hf9krjKO5IM3"
      },
      "source": [
        "### Determine how the data is distributed\n"
      ]
    },
    {
      "cell_type": "markdown",
      "metadata": {
        "id": "Ubti7LLK5IM4"
      },
      "source": [
        "The column `ConvertedComp` contains Salary converted to annual USD salaries using the exchange rate on 2019-02-01.\n",
        "\n",
        "This assumes 12 working months and 50 working weeks.\n"
      ]
    },
    {
      "cell_type": "markdown",
      "metadata": {
        "id": "V4wiVuC65IM5"
      },
      "source": [
        "Plot the distribution curve for the column `ConvertedComp`.\n"
      ]
    },
    {
      "cell_type": "code",
      "execution_count": null,
      "metadata": {
        "colab": {
          "base_uri": "https://localhost:8080/",
          "height": 386
        },
        "id": "GOUEQdOu5IM5",
        "outputId": "0ad3af3d-2c3f-4a2d-cb7a-679b72f8e889"
      },
      "outputs": [
        {
          "output_type": "execute_result",
          "data": {
            "text/plain": [
              "<seaborn.axisgrid.FacetGrid at 0x7fd3a3a2bad0>"
            ]
          },
          "metadata": {},
          "execution_count": 3
        },
        {
          "output_type": "display_data",
          "data": {
            "text/plain": [
              "<Figure size 360x360 with 1 Axes>"
            ],
            "image/png": "[encoded data removed]"
          },
          "metadata": {
            "needs_background": "light"
          }
        }
      ],
      "source": [
        "sns.displot(df['ConvertedComp'], kind = \"kde\")\n"
      ]
    },
    {
      "cell_type": "markdown",
      "metadata": {
        "id": "Y4yrZF4p5IM6"
      },
      "source": [
        "Plot the histogram for the column `ConvertedComp`.\n"
      ]
    },
    {
      "cell_type": "code",
      "execution_count": null,
      "metadata": {
        "colab": {
          "base_uri": "https://localhost:8080/",
          "height": 296
        },
        "id": "gLcxuhUv5IM7",
        "outputId": "07821714-4f9b-4ce8-f825-f3eb310b4816"
      },
      "outputs": [
        {
          "output_type": "execute_result",
          "data": {
            "text/plain": [
              "<matplotlib.axes._subplots.AxesSubplot at 0x7fd3a3bd27d0>"
            ]
          },
          "metadata": {},
          "execution_count": 4
        },
        {
          "output_type": "display_data",
          "data": {
            "text/plain": [
              "<Figure size 432x288 with 1 Axes>"
            ],
            "image/png": "[encoded data removed]"
          },
          "metadata": {
            "needs_background": "light"
          }
        }
      ],
      "source": [
        "sns.histplot(df[\"ConvertedComp\"])\n"
      ]
    },
    {
      "cell_type": "markdown",
      "metadata": {
        "id": "Czv7FGaO5IM7"
      },
      "source": [
        "What is the median of the column `ConvertedComp`?\n"
      ]
    },
    {
      "cell_type": "code",
      "execution_count": null,
      "metadata": {
        "colab": {
          "base_uri": "https://localhost:8080/"
        },
        "id": "k3O43s995IM8",
        "outputId": "2620aa26-73ca-4bbb-f1e3-a4074fce1f87"
      },
      "outputs": [
        {
          "output_type": "execute_result",
          "data": {
            "text/plain": [
              "57745.0"
            ]
          },
          "metadata": {},
          "execution_count": 5
        }
      ],
      "source": [
        "df[\"ConvertedComp\"].median()\n"
      ]
    },
    {
      "cell_type": "markdown",
      "metadata": {
        "id": "-DIX5aNs5IM8"
      },
      "source": [
        "How many responders identified themselves only as a **Man**?\n"
      ]
    },
    {
      "cell_type": "code",
      "execution_count": null,
      "metadata": {
        "colab": {
          "base_uri": "https://localhost:8080/"
        },
        "id": "PDk57CPg5IM9",
        "outputId": "1a21e89e-d634-4d16-f536-9e72b7790033"
      },
      "outputs": [
        {
          "output_type": "execute_result",
          "data": {
            "text/plain": [
              "10480"
            ]
          },
          "metadata": {},
          "execution_count": 6
        }
      ],
      "source": [
        "(df[\"Gender\"]==\"Man\").sum()"
      ]
    },
    {
      "cell_type": "markdown",
      "metadata": {
        "id": "HvJIxpOu5IM9"
      },
      "source": [
        "Find out the  median ConvertedComp of responders identified themselves only as a **Woman**?\n"
      ]
    },
    {
      "cell_type": "code",
      "execution_count": null,
      "metadata": {
        "colab": {
          "base_uri": "https://localhost:8080/"
        },
        "id": "4WW0nM7I5IM9",
        "outputId": "b66eb5aa-a299-4d60-9088-72f395153429"
      },
      "outputs": [
        {
          "output_type": "execute_result",
          "data": {
            "text/plain": [
              "57708.0"
            ]
          },
          "metadata": {},
          "execution_count": 7
        }
      ],
      "source": [
        "df[df[\"Gender\"]==\"Woman\"][\"ConvertedComp\"].median()\n"
      ]
    },
    {
      "cell_type": "markdown",
      "metadata": {
        "id": "Qc_rh9D_5IM-"
      },
      "source": [
        "Give the five number summary for the column `Age`?\n"
      ]
    },
    {
      "cell_type": "markdown",
      "metadata": {
        "id": "_MWBDq4B5IM-"
      },
      "source": [
        "**Double click here for hint**.\n",
        "\n",
        "<!--\n",
        "min,q1,median,q3,max of a column are its five number summary.\n",
        "-->\n"
      ]
    },
    {
      "cell_type": "code",
      "execution_count": null,
      "metadata": {
        "colab": {
          "base_uri": "https://localhost:8080/"
        },
        "id": "_pI13Gng5IM_",
        "outputId": "1cb15473-b3f5-4f5b-bd4b-85d735c30bdc"
      },
      "outputs": [
        {
          "output_type": "stream",
          "name": "stdout",
          "text": [
            " minimum age of respondents is : 16\n",
            " maximum age of respondants is : 99\n",
            "first quarter age of respondant is : 25\n",
            "the median age of respondants is : 29\n",
            "the third quarter age of respondant is : 35\n"
          ]
        }
      ],
      "source": [
        "#print(df[\"Age\"].describe())\n",
        "print(\" minimum age of respondents is : {}\".format(\"16\"))\n",
        "print(\" maximum age of respondants is : {}\".format(\"99\"))\n",
        "print(\"first quarter age of respondant is : {}\".format(\"25\"))\n",
        "print(\"the median age of respondants is : {}\".format(\"29\"))\n",
        "print(\"the third quarter age of respondant is : {}\".format(\"35\"))"
      ]
    },
    {
      "cell_type": "markdown",
      "metadata": {
        "id": "8dSL8Yki5IM_"
      },
      "source": [
        "Plot a histogram of the column `Age`.\n"
      ]
    },
    {
      "cell_type": "code",
      "execution_count": null,
      "metadata": {
        "colab": {
          "base_uri": "https://localhost:8080/",
          "height": 296
        },
        "id": "UCxTQrrp5IM_",
        "outputId": "a6084e49-d4be-4429-fe22-6f49bad298d6"
      },
      "outputs": [
        {
          "output_type": "execute_result",
          "data": {
            "text/plain": [
              "<matplotlib.axes._subplots.AxesSubplot at 0x7fd39e684c50>"
            ]
          },
          "metadata": {},
          "execution_count": 9
        },
        {
          "output_type": "display_data",
          "data": {
            "text/plain": [
              "<Figure size 432x288 with 1 Axes>"
            ],
            "image/png": "[encoded data removed]"
          },
          "metadata": {
            "needs_background": "light"
          }
        }
      ],
      "source": [
        "sns.histplot(df[\"Age\"])\n"
      ]
    },
    {
      "cell_type": "markdown",
      "metadata": {
        "id": "-OfXNJDQ5INA"
      },
      "source": [
        "## Outliers\n"
      ]
    },
    {
      "cell_type": "markdown",
      "metadata": {
        "id": "6dwK-_4n5INA"
      },
      "source": [
        "### Finding outliers\n"
      ]
    },
    {
      "cell_type": "markdown",
      "metadata": {
        "id": "bzoVf5JS5INA"
      },
      "source": [
        "Find out if outliers exist in the column `ConvertedComp` using a box plot?\n"
      ]
    },
    {
      "cell_type": "code",
      "execution_count": null,
      "metadata": {
        "colab": {
          "base_uri": "https://localhost:8080/",
          "height": 351
        },
        "id": "RHKT0hIG5INB",
        "outputId": "88ee949f-bbd0-4dfc-fbe0-755084d0f81f"
      },
      "outputs": [
        {
          "output_type": "stream",
          "name": "stderr",
          "text": [
            "/usr/local/lib/python3.7/dist-packages/seaborn/_decorators.py:43: FutureWarning: Pass the following variable as a keyword arg: x. From version 0.12, the only valid positional argument will be `data`, and passing other arguments without an explicit keyword will result in an error or misinterpretation.\n",
            "  FutureWarning\n"
          ]
        },
        {
          "output_type": "execute_result",
          "data": {
            "text/plain": [
              "<matplotlib.axes._subplots.AxesSubplot at 0x7fd39e678c10>"
            ]
          },
          "metadata": {},
          "execution_count": 10
        },
        {
          "output_type": "display_data",
          "data": {
            "text/plain": [
              "<Figure size 432x288 with 1 Axes>"
            ],
            "image/png": "[encoded data removed]"
          },
          "metadata": {
            "needs_background": "light"
          }
        }
      ],
      "source": [
        "sns.boxplot(df[\"ConvertedComp\"])\n"
      ]
    },
    {
      "cell_type": "markdown",
      "metadata": {
        "id": "VAjL2__w5INB"
      },
      "source": [
        "Find out the Inter Quartile Range for the column `ConvertedComp`.\n"
      ]
    },
    {
      "cell_type": "code",
      "execution_count": null,
      "metadata": {
        "colab": {
          "base_uri": "https://localhost:8080/"
        },
        "id": "f3BSfqFy5IND",
        "outputId": "18056d00-962e-45e9-94c9-e4c3a2e8f575"
      },
      "outputs": [
        {
          "output_type": "execute_result",
          "data": {
            "text/plain": [
              "73132.0"
            ]
          },
          "metadata": {},
          "execution_count": 11
        }
      ],
      "source": [
        "#df[\"ConvertedComp\"].describe()\n",
        "q1=2.686800e+04\n",
        "q3=1.000000e+05\n",
        "iqr = (q3 - q1)\n",
        "iqr"
      ]
    },
    {
      "cell_type": "markdown",
      "metadata": {
        "id": "cnEhTwpK5INE"
      },
      "source": [
        "Find out the upper and lower bounds.\n"
      ]
    },
    {
      "cell_type": "code",
      "execution_count": null,
      "metadata": {
        "colab": {
          "base_uri": "https://localhost:8080/"
        },
        "id": "_egb6oVr5INE",
        "outputId": "48515784-05dd-495b-a2f1-9f16f4264993"
      },
      "outputs": [
        {
          "output_type": "stream",
          "name": "stdout",
          "text": [
            "Upperbound = -82830.0\n",
            "Lowerbound = 209698.0\n"
          ]
        }
      ],
      "source": [
        "print(\"Upperbound = {}\".format(q1-1.5*iqr))\n",
        "print(\"Lowerbound = {}\".format(q3+1.5*iqr))"
      ]
    },
    {
      "cell_type": "markdown",
      "metadata": {
        "id": "UIN0hVBt5INF"
      },
      "source": [
        "Identify how many outliers are there in the `ConvertedComp` column.\n"
      ]
    },
    {
      "cell_type": "code",
      "execution_count": null,
      "metadata": {
        "colab": {
          "base_uri": "https://localhost:8080/"
        },
        "id": "_YngfzTo5INF",
        "outputId": "f5a05060-312f-40eb-e3a5-8856d3700db4"
      },
      "outputs": [
        {
          "output_type": "stream",
          "name": "stdout",
          "text": [
            "<class 'pandas.core.frame.DataFrame'>\n",
            "False\n",
            "True\n"
          ]
        },
        {
          "output_type": "execute_result",
          "data": {
            "text/plain": [
              "879"
            ]
          },
          "metadata": {},
          "execution_count": 30
        }
      ],
      "source": [
        "outliers = df[df[\"ConvertedComp\"] > q3+1.5*iqr]\n",
        "print(type(outliers))\n",
        "print(1 in outliers.index)\n",
        "print(3 in outliers.index)\n",
        "outliers.shape[0]"
      ]
    },
    {
      "cell_type": "markdown",
      "metadata": {
        "id": "3_6u5CRm5INF"
      },
      "source": [
        "Create a new dataframe by removing the outliers from the `ConvertedComp` column.\n"
      ]
    },
    {
      "cell_type": "code",
      "execution_count": null,
      "metadata": {
        "colab": {
          "base_uri": "https://localhost:8080/"
        },
        "id": "WsLDno7t5ING",
        "outputId": "3891f6b1-3db6-49cd-dc30-51d9c57c21d6"
      },
      "outputs": [
        {
          "output_type": "execute_result",
          "data": {
            "text/plain": [
              "10519"
            ]
          },
          "metadata": {},
          "execution_count": 34
        }
      ],
      "source": [
        "for i in outliers.index:\n",
        "  if i in df.index:\n",
        "    df.drop(i, axis = 0, inplace = True)\n",
        "df.shape[0]"
      ]
    },
    {
      "cell_type": "markdown",
      "metadata": {
        "id": "_1IBOL8P5ING"
      },
      "source": [
        "## Correlation\n"
      ]
    },
    {
      "cell_type": "markdown",
      "metadata": {
        "id": "bzJaDYBD5ING"
      },
      "source": [
        "### Finding correlation\n"
      ]
    },
    {
      "cell_type": "markdown",
      "metadata": {
        "id": "pPbChXy25INH"
      },
      "source": [
        "Find the correlation between `Age` and all other numerical columns.\n"
      ]
    },
    {
      "cell_type": "code",
      "execution_count": null,
      "metadata": {
        "colab": {
          "base_uri": "https://localhost:8080/"
        },
        "id": "5QbRJPxB5INI",
        "outputId": "03db9461-c3e1-4615-ba8f-c087cc0f1099"
      },
      "outputs": [
        {
          "output_type": "stream",
          "name": "stdout",
          "text": [
            "Index(['Respondent', 'CompTotal', 'ConvertedComp', 'WorkWeekHrs', 'CodeRevHrs',\n",
            "       'Age'],\n",
            "      dtype='object')\n",
            "corrolation between Age and Respondent is : 0.00404103082877392\n",
            "corrolation between Age and CompTotal is : 0.006969933096795747\n",
            "corrolation between Age and ConvertedComp is : 0.10538616072629153\n",
            "corrolation between Age and WorkWeekHrs is : 0.03651764909319289\n",
            "corrolation between Age and CodeRevHrs is : -0.020469111970030124\n"
          ]
        }
      ],
      "source": [
        "numerics = ['int16', 'int32', 'int64', 'float16', 'float32', 'float64']\n",
        "newdf = df.select_dtypes(include=numerics)\n",
        "print(newdf.columns)\n",
        "print(\"corrolation between Age and Respondent is : {}\".format(df[\"Age\"].corr(df[\"Respondent\"])))\n",
        "print(\"corrolation between Age and CompTotal is : {}\".format(df[\"Age\"].corr(df[\"CompTotal\"])))\n",
        "print(\"corrolation between Age and ConvertedComp is : {}\".format(df[\"Age\"].corr(df[\"ConvertedComp\"])))\n",
        "print(\"corrolation between Age and WorkWeekHrs is : {}\".format(df[\"Age\"].corr(df[\"WorkWeekHrs\"])))\n",
        "print(\"corrolation between Age and CodeRevHrs is : {}\".format(df[\"Age\"].corr(df[\"CodeRevHrs\"])))"
      ]
    },
    {
      "cell_type": "markdown",
      "metadata": {
        "id": "gZsM3khd5INI"
      },
      "source": [
        "## Authors\n"
      ]
    },
    {
      "cell_type": "markdown",
      "metadata": {
        "id": "W3MmBKGO5INJ"
      },
      "source": [
        "Fatemeh Askarianzadeh"
      ]
    },
    {
      "cell_type": "markdown",
      "metadata": {
        "id": "Qm60HrzF5INJ"
      },
      "source": [
        "### Other Contributors\n"
      ]
    },
    {
      "cell_type": "markdown",
      "metadata": {
        "id": "wDP--aiO5INJ"
      },
      "source": [
        "Rav Ahuja\n"
      ]
    },
    {
      "cell_type": "markdown",
      "metadata": {
        "id": "bXFhJmjr5INK"
      },
      "source": [
        "## Change Log\n"
      ]
    },
    {
      "cell_type": "markdown",
      "metadata": {
        "id": "2NdL8n4m5INK"
      },
      "source": [
        "| Date (YYYY-MM-DD) | Version | Changed By        | Change Description                 |\n",
        "| ----------------- | ------- | ----------------- | ---------------------------------- |\n",
        "| 2020-10-17        | 0.1     | Ramesh Sannareddy | Created initial version of the lab |\n",
        "| 2022-04-25        | 0.2     | Fatemeh Askarianzadeh | Assignment finished |\n"
      ]
    },
    {
      "cell_type": "markdown",
      "metadata": {
        "id": "M4cfOQxE5INK"
      },
      "source": [
        "Copyright © 2020 IBM Corporation. This notebook and its source code are released under the terms of the [MIT License](https://cognitiveclass.ai/mit-license?utm_medium=Exinfluencer&utm_source=Exinfluencer&utm_content=000026UJ&utm_term=10006555&utm_id=NA-SkillsNetwork-Channel-SkillsNetworkCoursesIBMDA0321ENSkillsNetwork21426264-2021-01-01&cm_mmc=Email_Newsletter-\\_-Developer_Ed%2BTech-\\_-WW_WW-\\_-SkillsNetwork-Courses-IBM-DA0321EN-SkillsNetwork-21426264&cm_mmca1=000026UJ&cm_mmca2=10006555&cm_mmca3=M12345678&cvosrc=email.Newsletter.M12345678&cvo_campaign=000026UJ).\n"
      ]
    }
  ],
  "metadata": {
    "kernelspec": {
      "display_name": "Python 3",
      "language": "python",
      "name": "python3"
    },
    "language_info": {
      "codemirror_mode": {
        "name": "ipython",
        "version": 3
      },
      "file_extension": ".py",
      "mimetype": "text/x-python",
      "name": "python",
      "nbconvert_exporter": "python",
      "pygments_lexer": "ipython3",
      "version": "3.7.6"
    },
    "colab": {
      "name": "M3ExploratoryDataAnalysis-lab (2).ipynb",
      "provenance": [],
      "include_colab_link": true
    }
  },
  "nbformat": 4,
  "nbformat_minor": 0
}