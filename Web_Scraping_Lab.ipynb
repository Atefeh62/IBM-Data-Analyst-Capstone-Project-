{
  "cells": [
    {
      "cell_type": "markdown",
      "metadata": {
        "id": "view-in-github",
        "colab_type": "text"
      },
      "source": [
        "<a href=\"https://colab.research.google.com/github/Atefeh62/IBM-Data-Analyst-Capstone-Project-/blob/main/Web_Scraping_Lab.ipynb\" target=\"_parent\"><img src=\"https://colab.research.google.com/assets/colab-badge.svg\" alt=\"Open In Colab\"/></a>"
      ]
    },
    {
      "metadata": {
        "id": "xrTFQNgsgJG9"
      },
      "cell_type": "markdown",
      "source": [ "WEB SCRAPING"
        "<center>\n",
        "    <img src=\"https://gitlab.com/ibm/skills-network/courses/placeholder101/-/raw/master/labs/module%201/images/IDSNlogo.png\" width=\"300\" alt=\"cognitiveclass.ai logo\"  />\n",
        "</center>\n"
      ]
    },
    {
      "metadata": {
        "id": "R1NOErDIgJHK"
      },
      "cell_type": "markdown",
      "source": [
        
      ]
    },
    {
      "metadata": {
        "id": "lBtR1p_ygJHL"
      },
      "cell_type": "markdown",
      "source": [
        
      ]
    },
    {
      "metadata": {
        "id": "h6IeH_XugJHM"
      },
      "cell_type": "markdown",
      "source": [
        "## Objectives\n"
      ]
    },
    {
      "metadata": {
        "id": "I0fFvq7sgJHN"
      },
      "cell_type": "markdown",
      "source": [
        "In this lab you will perform the following:\n"
      ]
    },
    {
      "metadata": {
        "id": "-_4gD14igJHO"
      },
      "cell_type": "markdown",
      "source": [
        "*   Extract information from a given web site\n",
        "*   Write the scraped data into a csv file.\n"
      ]
    },
    {
      "metadata": {
        "id": "LjB0-klTgJHP"
      },
      "cell_type": "markdown",
      "source": [
        "## Extract information from the given web site\n",
        "\n",
        "You will extract the data from the below web site: <br>\n"
      ]
    },
    {
      "metadata": {
        "id": "Zsw9W27kgJHQ"
      },
      "cell_type": "code",
      "source": [
        "#this url contains the data you need to scrape\n",
        "url = \"https://cf-courses-data.s3.us.cloud-object-storage.appdomain.cloud/IBM-DA0321EN-SkillsNetwork/labs/datasets/Programming_Languages.html\""
      ],
      "execution_count": 1,
      "outputs": []
    },
    {
      "metadata": {
        "id": "zwt2PiUmgJHT"
      },
      "cell_type": "markdown",
      "source": [
        "The data you need to scrape is the **name of the programming language** and **average annual salary**.<br> It is a good idea to open the url in your web broswer and study the contents of the web page before you start to scrape.\n"
      ]
    },
    {
      "metadata": {
        "id": "s1Gv251KgJHV"
      },
      "cell_type": "markdown",
      "source": [
        "Import the required libraries\n"
      ]
    },
    {
      "metadata": {
        "id": "KeE_35L5gJHW"
      },
      "cell_type": "code",
      "source": [
        "from bs4 import BeautifulSoup\n",
        "import requests\n",
        "import pandas as pd\n",
        "import csv"
      ],
      "execution_count": 3,
      "outputs": []
    },
    {
      "metadata": {
        "id": "ZVxY9SlBgJHX"
      },
      "cell_type": "markdown",
      "source": [
        "Download the webpage at the url\n"
      ]
    },
    {
      "metadata": {
        "id": "5fWXIQQQgJHX"
      },
      "cell_type": "code",
      "source": [
        "data = requests.get(url).text"
      ],
      "execution_count": 4,
      "outputs": []
    },
    {
      "metadata": {
        "id": "aTJychx8gJHZ"
      },
      "cell_type": "markdown",
      "source": [
        "Create a soup object\n"
      ]
    },
    {
      "metadata": {
        "id": "AFAXcq3XgJHa"
      },
      "cell_type": "code",
      "source": [
        "soup = BeautifulSoup(data,\"html5lib\")"
      ],
      "execution_count": 5,
      "outputs": []
    },
    {
      "metadata": {
        "id": "FFeVg09QgJHa"
      },
      "cell_type": "markdown",
      "source": [
        "Scrape the `Language name` and `annual average salary`.\n"
      ]
    },
    {
      "metadata": {
        "colab": {
          "base_uri": "https://localhost:8080/"
        },
        "id": "VT9cjgP9gJHb",
        "outputId": "f32a24a7-d984-4f78-eead-88b09b77b679"
      },
      "cell_type": "code",
      "source": [
        "table = soup.find('table')\n",
        "listpl =[]\n",
        "for row in table.find_all('tr'):\n",
        "    cols = row.find_all('td')\n",
        "    Language_name = cols[1].getText()\n",
        "    annual_average_salary = str(cols[3].getText())\n",
        "    listpl.append([Language_name,annual_average_salary])\n",
        "    #print(\"{}--->{}\".format(Language_name,annual_average_salary))\n",
        "print(listpl)"
      ],
      "execution_count": 6,
      "outputs": [
        {
          "output_type": "stream",
          "name": "stdout",
          "text": [
            "[['Language', 'Average Annual Salary'], ['Python', '$114,383'], ['Java', '$101,013'], ['R', '$92,037'], ['Javascript', '$110,981'], ['Swift', '$130,801'], ['C++', '$113,865'], ['C#', '$88,726'], ['PHP', '$84,727'], ['SQL', '$84,793'], ['Go', '$94,082']]\n"
          ]
        }
      ]
    },
    {
      "metadata": {
        "id": "HYsedfFbgJHd"
      },
      "cell_type": "markdown",
      "source": [
        "Save the scrapped data into a file named *popular-languages.csv*\n"
      ]
    },
    {
      "metadata": {
        "id": "N1orP14ngJHd"
      },
      "cell_type": "code",
      "source": [
        "popular_languages = pd.DataFrame(listpl)\n",
        "popular_languages.to_csv(\"popular-languages.csv\")"
      ],
      "execution_count": 7,
      "outputs": []
    },
    {
      "metadata": {
        "id": "j3oPBu-HgJHe"
      },
      "cell_type": "markdown",
      "source": [
        "## Authors\n"
      ]
    },
    {
      "metadata": {
        "id": "aip3hsP6gJHf"
      },
      "cell_type": "markdown",
      "source": [
        "Ramesh Sannareddy\n"
      ]
    },
    {
      "metadata": {
        "id": "v6R9KchZgJHf"
      },
      "cell_type": "markdown",
      "source": [
        "### Other Contributors\n"
      ]
    },
    {
      "metadata": {
        "id": "bodQy5cwgJHf"
      },
      "cell_type": "markdown",
      "source": [
        "Rav Ahuja\n"
      ]
    },
    {
      "metadata": {
        "id": "A4rwWwW9gJHh"
      },
      "cell_type": "markdown",
      "source": [
        "## Change Log\n"
      ]
    },
    {
      "metadata": {
        "id": "_09YLbRkgJHh"
      },
      "cell_type": "markdown",
      "source": [
        "| Date (YYYY-MM-DD) | Version | Changed By        | Change Description                 |\n",
        "| ----------------- | ------- | ----------------- | ---------------------------------- |\n",
        "| 2020-10-17        | 0.1     | Ramesh Sannareddy | Created initial version of the lab |\n"
      ]
    },
    {
      "metadata": {
        "id": "D4N4WmN_gJHh"
      },
      "cell_type": "markdown",
      "source": [
        "Copyright © 2020 IBM Corporation. This notebook and its source code are released under the terms of the [MIT License](https://cognitiveclass.ai/mit-license/?utm_medium=Exinfluencer&utm_source=Exinfluencer&utm_content=000026UJ&utm_term=10006555&utm_id=NA-SkillsNetwork-Channel-SkillsNetworkCoursesIBMDA0321ENSkillsNetwork21426264-2021-01-01).\n"
      ]
    }
  ],
  "metadata": {
    "kernelspec": {
      "name": "python3",
      "display_name": "Python 3.9",
      "language": "python"
    },
    "language_info": {
      "name": "python",
      "version": "3.9.7",
      "mimetype": "text/x-python",
      "codemirror_mode": {
        "name": "ipython",
        "version": 3
      },
      "pygments_lexer": "ipython3",
      "nbconvert_exporter": "python",
      "file_extension": ".py"
    },
    "colab": {
      "name": "Web-Scraping-Lab (1).ipynb",
      "provenance": [],
      "include_colab_link": true
    }
  },
  "nbformat": 4,
  "nbformat_minor": 0
}  
