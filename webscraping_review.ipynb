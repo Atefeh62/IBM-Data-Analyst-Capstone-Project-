{
  "cells": [
    {
      "cell_type": "markdown",
      "metadata": {
        "id": "view-in-github",
        "colab_type": "text"
      },
      "source": [
        "<a href=\"https://colab.research.google.com/github/Atefeh62/IBM-Data-Analyst-Capstone-Project-/blob/main/webscraping_review.ipynb\" target=\"_parent\"><img src=\"https://colab.research.google.com/assets/colab-badge.svg\" alt=\"Open In Colab\"/></a>"
      ]
    },
    {
      "metadata": {
        "id": "K9-m2Gm4oEf1"
      },
      "cell_type": "markdown",
      "source": [
        "<center>\n",
        "    <img src=\"https://gitlab.com/ibm/skills-network/courses/placeholder101/-/raw/master/labs/module%201/images/IDSNlogo.png\" width=\"300\" alt=\"cognitiveclass.ai logo\"  />\n",
        "</center>\n"
      ]
    },
    {
      "metadata": {
        "id": "mtC7pTGxoEf-"
      },
      "cell_type": "markdown",
      "source": [
        "# **Web Scraping Lab**\n"
      ]
    },
    {
      "metadata": {
        "id": "JQ6kDg-koEf_"
      },
      "cell_type": "markdown",
      "source": [
        "Estimated time needed: **30** minutes\n"
      ]
    },
    {
      "metadata": {
        "id": "fJXgToTKoEgB"
      },
      "cell_type": "markdown",
      "source": [
        "## Objectives\n"
      ]
    },
    {
      "metadata": {
        "id": "bMThmwrToEgB"
      },
      "cell_type": "markdown",
      "source": [
        "After completing this lab you will be able to:\n"
      ]
    },
    {
      "metadata": {
        "id": "agEkRgH6oEgC"
      },
      "cell_type": "markdown",
      "source": [
        "*   Download a webpage using requests module\n",
        "*   Scrape all links from a web page\n",
        "*   Scrape all image urls from a web page\n",
        "*   Scrape data from html tables\n"
      ]
    },
    {
      "metadata": {
        "id": "sIG-JAWpoEgE"
      },
      "cell_type": "markdown",
      "source": [
        "## Scrape [www.ibm.com](http://www.ibm.com/?utm_medium=Exinfluencer&utm_source=Exinfluencer&utm_content=000026UJ&utm_term=10006555&utm_id=NA-SkillsNetwork-Channel-SkillsNetworkCoursesIBMDA0321ENSkillsNetwork21426264-2021-01-01)\n"
      ]
    },
    {
      "metadata": {
        "id": "cm4nkzsmoEgF"
      },
      "cell_type": "markdown",
      "source": [
        "Import the required modules and functions\n"
      ]
    },
    {
      "metadata": {
        "id": "8kCzY9dRoEgH"
      },
      "cell_type": "code",
      "source": [
        "from bs4 import BeautifulSoup # this module helps in web scrapping.\n",
        "import requests  # this module helps us to download a web page"
      ],
      "execution_count": 1,
      "outputs": []
    },
    {
      "metadata": {
        "id": "mdIoZp8EoEgK"
      },
      "cell_type": "markdown",
      "source": [
        "Download the contents of the web page\n"
      ]
    },
    {
      "metadata": {
        "id": "mx82znL2oEgL"
      },
      "cell_type": "code",
      "source": [
        "url = \"http://www.ibm.com\""
      ],
      "execution_count": 2,
      "outputs": []
    },
    {
      "metadata": {
        "id": "mmWxP9X_oEgM"
      },
      "cell_type": "code",
      "source": [
        "# get the contents of the webpage in text format and store in a variable called data\n",
        "data  = requests.get(url).text "
      ],
      "execution_count": 3,
      "outputs": []
    },
    {
      "metadata": {
        "id": "IbAztlFnoEgN"
      },
      "cell_type": "markdown",
      "source": [
        "Create a soup object using the class BeautifulSoup\n"
      ]
    },
    {
      "metadata": {
        "id": "uUteDndGoEgN"
      },
      "cell_type": "code",
      "source": [
        "soup = BeautifulSoup(data,\"html5lib\")  # create a soup object using the variable 'data'"
      ],
      "execution_count": 4,
      "outputs": []
    },
    {
      "metadata": {
        "id": "3P66WOr_oEgO"
      },
      "cell_type": "markdown",
      "source": [
        "Scrape all links\n"
      ]
    },
    {
      "metadata": {
        "colab": {
          "base_uri": "https://localhost:8080/"
        },
        "id": "L9iewkr_oEgP",
        "outputId": "99a8dffa-12c1-45bf-ed32-25658e7658a8"
      },
      "cell_type": "code",
      "source": [
        "for link in soup.find_all('a'):  # in html anchor/link is represented by the tag <a>\n",
        "    print(link.get('href'))"
      ],
      "execution_count": 5,
      "outputs": [
        {
          "output_type": "stream",
          "name": "stdout",
          "text": [
            "https://www.ibm.com/tw/zh\n",
            "https://www.ibm.com/sitemap/tw/zh\n",
            "https://www.ibm.com/lets-create/\n",
            "/tw-zh/cloud/application-modernization\n",
            "/tw-zh/analytics/journey-to-ai\n",
            "https://www.ibm.com/tw-zh/products/flashsystem-5000?lnk=TWHP\n",
            "https://www.ibm.com/tw-zh/it-infrastructure/storage/flash?lnk=STW_TW_HP_F3_&psrc=NONE&pexp=DEF&lnk2=goto_FlashStorage\n",
            "/tw-zh/cloud/hybrid\n",
            "https://www.ibm.com/tw-zh/products?lnk=STW_TW_HP_SWT5_BLK&psrc=NONE&pexp=DEF&lnk2=trial_PHP\n",
            "https://www.ibm.com/tw-zh/security/security-intelligence/qradar?lnk=STW_TW_HP_SWT1_BLK&psrc=NONE&pexp=DEF&lnk2=trial_QradarPlat\n",
            "https://www.ibm.com/tw-zh/analytics/spss-trials?lnk=STW_TW_HP_SWT1_&psrc=NONE&pexp=DEF&lnk2=goto_SPSSstat\n",
            "https://www.ibm.com/tw-zh/cloud/free?lnk=STW_TW_HP_SWT1_BLK&psrc=NONE&pexp=DEF&lnk2=trial_Cloud\n",
            "https://www.ibm.com/tw-zh/products/cloud-pak-for-data?lnk=STW_TW_HP_SWT2_BLK&psrc=NONE&pexp=DEF&lnk2=trial_CloudPakData\n",
            "https://www.ibm.com/tw-zh/cloud/watson-assistant?lnk=STW_TW_HP_SWT3_BLK&psrc=NONE&pexp=DEF&lnk2=trial_WatAssist\n",
            "https://www.ibm.com/tw-zh/security/identity-access-management/cloud-identity?lnk=STW_TW_HP_SWT4_BLK&psrc=NONE&pexp=DEF&lnk2=trial_VerifyIAM\n",
            "/cloud/hybrid?lnk=hpv18pt14\n",
            "/cloud/learn/public-cloud?lnk=hpv18ct1\n",
            "/watson?lnk=ushpv18pt17\n",
            "/garage?lnk=hpv18pt13\n",
            "/blockchain?lnk=hpv18pt4\n",
            "https://www.ibm.com/thought-leadership/institute-business-value/?lnk=hpv18pt12\n",
            "/analytics?lnk=hpv18pt1\n",
            "/security?lnk=hpv18pt9\n",
            "/financing?lnk=hpv18pt3\n",
            "https://www.ibm.com/quantum-computing?lnk=hpv18pt16\n",
            "/cloud/hybrid?lnk=hpv18ct20\n",
            "/cloud/learn/public-cloud?lnk=hpv18ct1\n",
            "/cloud/redhat?lnk=hpv18ct13\n",
            "https://www.ibm.com/tw-zh/security/zero-trust?lnk=hpv18pt4\n",
            "/watson?lnk=hpv18ct3\n",
            "https://www.ibm.com/quantum-computing?lnk=hpv18ct18\n",
            "/cloud/learn/kubernetes?lnk=hpv18ct8\n",
            "/products/spss-statistics?lnk=ushpv18ct7\n",
            "/blockchain?lnk=hpv18ct1\n",
            "https://www.ibm.com/employment?lnk=hpv18ct2\n",
            "https://developer.ibm.com/depmodels/cloud/?lnk=hpv18ct16\n",
            "https://developer.ibm.com/technologies/artificial-intelligence?lnk=hpv18ct19\n",
            "https://developer.ibm.com/?lnk=hpv18ct9\n",
            "https://www.ibm.com/docs/en/?lnk=hpv18ct14\n",
            "https://www.redbooks.ibm.com/?lnk=ushpv18ct10\n",
            "https://www.ibm.com/support/home/?lnk=hpv18ct11\n",
            "https://www.ibm.com/training/?lnk=hpv18ct15\n",
            "https://www.ibm.com/case-studies/coca-cola-european-partners/?lnk=hpv18cs1\n",
            "/case-studies/search?lnk=hpv18cs2\n",
            "#\n"
          ]
        }
      ]
    },
    {
      "metadata": {
        "id": "MaeSfPHXoEgQ"
      },
      "cell_type": "markdown",
      "source": [
        "Scrape  all images\n"
      ]
    },
    {
      "metadata": {
        "colab": {
          "base_uri": "https://localhost:8080/"
        },
        "id": "VXarY5qIoEgR",
        "outputId": "79115aab-c56b-42f9-f567-92496e68dd44"
      },
      "cell_type": "code",
      "source": [
        "for link in soup.find_all('img'):# in html image is represented by the tag <img>\n",
        "    print(link.get('src'))"
      ],
      "execution_count": 6,
      "outputs": [
        {
          "output_type": "stream",
          "name": "stdout",
          "text": [
            "//1.cms.s81c.com/sites/default/files/2022-02/security-2_10.jpg\n",
            "//1.cms.s81c.com/sites/default/files/2021-09-02/twhp-mordernize.jpg\n",
            "//1.cms.s81c.com/sites/default/files/2021-09-02/twhp-j2ai.jpg\n",
            "//1.cms.s81c.com/sites/default/files/2021-08-09/twzh-flashsystem-5000.jpg\n",
            "//1.cms.s81c.com/sites/default/files/2021-04-09/20210209-flash-system-5200-storage-25719-444x320_0.jpg\n",
            "//1.cms.s81c.com/sites/default/files/2021-04-09/02dfdf0d-305a-4d56-bc959b60ad35f0c9.jpg\n",
            "//1.cms.s81c.com/sites/default/files/2021-10-26/QRadar-on-Cloud-21400-700x420_3.png\n",
            "//1.cms.s81c.com/sites/default/files/2021-04-26/Original-SPSS-Statistics-23108-700x420.png\n",
            "//1.cms.s81c.com/sites/default/files/2021-02-17/ibm-cloud-trial.png\n",
            "//1.cms.s81c.com/sites/default/files/2021-02-17/cloud-pak-for-data-trial.png\n",
            "//1.cms.s81c.com/sites/default/files/2021-02-17/watson-assistant-trial_0.png\n",
            "//1.cms.s81c.com/sites/default/files/2021-02-19/security-verify-trial.png\n"
          ]
        }
      ]
    },
    {
      "metadata": {
        "id": "sDFKVrAOoEgS"
      },
      "cell_type": "markdown",
      "source": [
        "## Scrape data from html tables\n"
      ]
    },
    {
      "metadata": {
        "id": "FnKYngQDoEgS"
      },
      "cell_type": "code",
      "source": [
        "#The below url contains a html table with data about colors and color codes."
      ],
      "execution_count": 7,
      "outputs": []
    },
    {
      "metadata": {
        "id": "gnd2UpJsoEgT"
      },
      "cell_type": "code",
      "source": [
        "url = \"https://cf-courses-data.s3.us.cloud-object-storage.appdomain.cloud/IBM-DA0321EN-SkillsNetwork/labs/datasets/HTMLColorCodes.html\""
      ],
      "execution_count": 8,
      "outputs": []
    },
    {
      "metadata": {
        "id": "nMluFoAQoEgT"
      },
      "cell_type": "markdown",
      "source": [
        "Before proceeding to scrape a web site, you need to examine the contents, and the way data is organized on the website. Open the above url in your browser and check how many rows and columns are there in the color table.\n"
      ]
    },
    {
      "metadata": {
        "id": "jSQtIGr0oEgU"
      },
      "cell_type": "code",
      "source": [
        "# get the contents of the webpage in text format and store in a variable called data\n",
        "data  = requests.get(url).text"
      ],
      "execution_count": 9,
      "outputs": []
    },
    {
      "metadata": {
        "colab": {
          "base_uri": "https://localhost:8080/"
        },
        "id": "phmdV0PgoEgV",
        "outputId": "b0332406-81db-481b-b47c-14b5221c0977"
      },
      "cell_type": "code",
      "source": [
        "soup = BeautifulSoup(data,\"html5lib\")\n",
        "soup"
      ],
      "execution_count": 10,
      "outputs": [
        {
          "output_type": "execute_result",
          "data": {
            "text/plain": [
              "<html><head></head><body>\n",
              "      <h1>Partital List  of HTML5 Supported Colors</h1>\n",
              "<table border=\"1\" class=\"main-table\">\n",
              "   <tbody><tr>\n",
              "      <td>Number </td>\n",
              "      <td>Color</td>\n",
              "      <td>Color Name</td>\n",
              "      <td>Hex Code<br/>#RRGGBB</td>\n",
              "      <td>Decimal Code<br/>(R,G,B)</td>\n",
              "   </tr>\n",
              "   <tr>\n",
              "      <td>1</td>\n",
              "      <td style=\"background:lightsalmon;\"> </td>\n",
              "      <td>lightsalmon</td>\n",
              "      <td>#FFA07A</td>\n",
              "      <td>rgb(255,160,122)</td>\n",
              "   </tr>\n",
              "   <tr>\n",
              "      <td>2</td>\n",
              "      <td style=\"background:salmon;\"> </td>\n",
              "      <td>salmon</td>\n",
              "      <td>#FA8072</td>\n",
              "      <td>rgb(250,128,114)</td>\n",
              "   </tr>\n",
              "   <tr>\n",
              "      <td>3</td>\n",
              "      <td style=\"background:darksalmon;\"> </td>\n",
              "      <td>darksalmon</td>\n",
              "      <td>#E9967A</td>\n",
              "      <td>rgb(233,150,122)</td>\n",
              "   </tr>\n",
              "   <tr>\n",
              "      <td>4</td>\n",
              "      <td style=\"background:lightcoral;\"> </td>\n",
              "      <td>lightcoral</td>\n",
              "      <td>#F08080</td>\n",
              "      <td>rgb(240,128,128)</td>\n",
              "   </tr>\n",
              "   <tr>\n",
              "      <td>5</td>\n",
              "      <td style=\"background:coral;\"> </td>\n",
              "      <td>coral</td>\n",
              "      <td>#FF7F50</td>\n",
              "      <td>rgb(255,127,80)</td>\n",
              "   </tr>\n",
              "   <tr>\n",
              "      <td>6</td>\n",
              "      <td style=\"background:tomato;\"> </td>\n",
              "      <td>tomato</td>\n",
              "      <td>#FF6347</td>\n",
              "      <td>rgb(255,99,71)</td>\n",
              "   </tr>\n",
              "   <tr>\n",
              "      <td>7</td>\n",
              "      <td style=\"background:orangered;\"> </td>\n",
              "      <td>orangered</td>\n",
              "      <td>#FF4500</td>\n",
              "      <td>rgb(255,69,0)</td>\n",
              "   </tr>\n",
              "   <tr>\n",
              "      <td>8</td>\n",
              "      <td style=\"background:gold;\"> </td>\n",
              "      <td>gold</td>\n",
              "      <td>#FFD700</td>\n",
              "      <td>rgb(255,215,0)</td>\n",
              "   </tr>\n",
              "   <tr>\n",
              "      <td>9</td>\n",
              "      <td style=\"background:orange;\"> </td>\n",
              "      <td>orange</td>\n",
              "      <td>#FFA500</td>\n",
              "      <td>rgb(255,165,0)</td>\n",
              "   </tr>\n",
              "   <tr>\n",
              "      <td>10</td>\n",
              "      <td style=\"background:darkorange;\"> </td>\n",
              "      <td>darkorange</td>\n",
              "      <td>#FF8C00</td>\n",
              "      <td>rgb(255,140,0)</td>\n",
              "   </tr>\n",
              "   <tr>\n",
              "      <td>11</td>\n",
              "      <td style=\"background:lightyellow;\"> </td>\n",
              "      <td>lightyellow</td>\n",
              "      <td>#FFFFE0</td>\n",
              "      <td>rgb(255,255,224)</td>\n",
              "   </tr>\n",
              "   <tr>\n",
              "      <td>12</td>\n",
              "      <td style=\"background:lemonchiffon;\"> </td>\n",
              "      <td>lemonchiffon</td>\n",
              "      <td>#FFFACD</td>\n",
              "      <td>rgb(255,250,205)</td>\n",
              "   </tr>\n",
              "   <tr>\n",
              "      <td>13</td>\n",
              "      <td style=\"background:papayawhip;\"> </td>\n",
              "      <td>papayawhip</td>\n",
              "      <td>#FFEFD5</td>\n",
              "      <td>rgb(255,239,213)</td>\n",
              "   </tr>\n",
              "   <tr>\n",
              "      <td>14</td>\n",
              "      <td style=\"background:moccasin;\"> </td>\n",
              "      <td>moccasin</td>\n",
              "      <td>#FFE4B5</td>\n",
              "      <td>rgb(255,228,181)</td>\n",
              "   </tr>\n",
              "   <tr>\n",
              "      <td>15</td>\n",
              "      <td style=\"background:peachpuff;\"> </td>\n",
              "      <td>peachpuff</td>\n",
              "      <td>#FFDAB9</td>\n",
              "      <td>rgb(255,218,185)</td>\n",
              "   </tr>\n",
              "   <tr>\n",
              "      <td>16</td>\n",
              "      <td style=\"background:palegoldenrod;\"> </td>\n",
              "      <td>palegoldenrod</td>\n",
              "      <td>#EEE8AA</td>\n",
              "      <td>rgb(238,232,170)</td>\n",
              "   </tr>\n",
              "   <tr>\n",
              "      <td>17</td>\n",
              "      <td style=\"background:khaki;\"> </td>\n",
              "      <td>khaki</td>\n",
              "      <td>#F0E68C</td>\n",
              "      <td>rgb(240,230,140)</td>\n",
              "   </tr>\n",
              "   <tr>\n",
              "      <td>18</td>\n",
              "      <td style=\"background:darkkhaki;\"> </td>\n",
              "      <td>darkkhaki</td>\n",
              "      <td>#BDB76B</td>\n",
              "      <td>rgb(189,183,107)</td>\n",
              "   </tr>\n",
              "   <tr>\n",
              "      <td>19</td>\n",
              "      <td style=\"background:yellow;\"> </td>\n",
              "      <td>yellow</td>\n",
              "      <td>#FFFF00</td>\n",
              "      <td>rgb(255,255,0)</td>\n",
              "   </tr>\n",
              "   <tr>\n",
              "      <td>20</td>\n",
              "      <td style=\"background:lawngreen;\"> </td>\n",
              "      <td>lawngreen</td>\n",
              "      <td>#7CFC00</td>\n",
              "      <td>rgb(124,252,0)</td>\n",
              "   </tr>\n",
              "   <tr>\n",
              "      <td>21</td>\n",
              "      <td style=\"background:chartreuse;\"> </td>\n",
              "      <td>chartreuse</td>\n",
              "      <td>#7FFF00</td>\n",
              "      <td>rgb(127,255,0)</td>\n",
              "   </tr>\n",
              "   <tr>\n",
              "      <td>22</td>\n",
              "      <td style=\"background:limegreen;\"> </td>\n",
              "      <td>limegreen</td>\n",
              "      <td>#32CD32</td>\n",
              "      <td>rgb(50,205,50)</td>\n",
              "   </tr>\n",
              "   <tr>\n",
              "      <td>23</td>\n",
              "      <td style=\"background:lime;\"> </td>\n",
              "      <td>lime</td>\n",
              "      <td>#00FF00</td>\n",
              "      <td>rgb(0.255.0)</td>\n",
              "   </tr>\n",
              "   <tr>\n",
              "      <td>24</td>\n",
              "      <td style=\"background:forestgreen;\"> </td>\n",
              "      <td>forestgreen</td>\n",
              "      <td>#228B22</td>\n",
              "      <td>rgb(34,139,34)</td>\n",
              "   </tr>\n",
              "   <tr>\n",
              "      <td>25</td>\n",
              "      <td style=\"background:green;\"> </td>\n",
              "      <td>green</td>\n",
              "      <td>#008000</td>\n",
              "      <td>rgb(0,128,0)</td>\n",
              "   </tr>\n",
              "   <tr>\n",
              "      <td>26</td>\n",
              "      <td style=\"background:powderblue;\"> </td>\n",
              "      <td>powderblue</td>\n",
              "      <td>#B0E0E6</td>\n",
              "      <td>rgb(176,224,230)</td>\n",
              "   </tr>\n",
              "   <tr>\n",
              "      <td>27</td>\n",
              "      <td style=\"background:lightblue;\"> </td>\n",
              "      <td>lightblue</td>\n",
              "      <td>#ADD8E6</td>\n",
              "      <td>rgb(173,216,230)</td>\n",
              "   </tr>\n",
              "   <tr>\n",
              "      <td>28</td>\n",
              "      <td style=\"background:lightskyblue;\"> </td>\n",
              "      <td>lightskyblue</td>\n",
              "      <td>#87CEFA</td>\n",
              "      <td>rgb(135,206,250)</td>\n",
              "   </tr>\n",
              "   <tr>\n",
              "      <td>29</td>\n",
              "      <td style=\"background:skyblue;\"> </td>\n",
              "      <td>skyblue</td>\n",
              "      <td>#87CEEB</td>\n",
              "      <td>rgb(135,206,235)</td>\n",
              "   </tr>\n",
              "   <tr>\n",
              "      <td>30</td>\n",
              "      <td style=\"background:deepskyblue;\"> </td>\n",
              "      <td>deepskyblue</td>\n",
              "      <td>#00BFFF</td>\n",
              "      <td>rgb(0,191,255)</td>\n",
              "   </tr>\n",
              "   <tr>\n",
              "      <td>31</td>\n",
              "      <td style=\"background:lightsteelblue;\"> </td>\n",
              "      <td>lightsteelblue</td>\n",
              "      <td>#B0C4DE</td>\n",
              "      <td>rgb(176,196,222)</td>\n",
              "   </tr>\n",
              "   <tr>\n",
              "      <td>32</td>\n",
              "      <td style=\"background:dodgerblue;\"> </td>\n",
              "      <td>dodgerblue</td>\n",
              "      <td>#1E90FF</td>\n",
              "      <td>rgb(30,144,255)</td>\n",
              "   </tr>\n",
              "</tbody></table>\n",
              "   \n",
              "</body></html>"
            ]
          },
          "metadata": {},
          "execution_count": 10
        }
      ]
    },
    {
      "metadata": {
        "id": "sFxKSiYdoEgV"
      },
      "cell_type": "code",
      "source": [
        "#find a html table in the web page\n",
        "table = soup.find('table') # in html table is represented by the tag <table>"
      ],
      "execution_count": 11,
      "outputs": []
    },
    {
      "metadata": {
        "colab": {
          "base_uri": "https://localhost:8080/"
        },
        "id": "btEICHOXoEgW",
        "outputId": "ec462ad5-2997-43c5-a0dd-18db98ca9b71"
      },
      "cell_type": "code",
      "source": [
        "#Get all rows from the table\n",
        "for row in table.find_all('tr'): # in html table row is represented by the tag <tr>\n",
        "    # Get all columns in each row.\n",
        "    cols = row.find_all('td') # in html a column is represented by the tag <td>\n",
        "    color_name = cols[2].getText() # store the value in column 3 as color_name\n",
        "    color_code = cols[3].getText() # store the value in column 4 as color_code\n",
        "    print(\"{}--->{}\".format(color_name,color_code))"
      ],
      "execution_count": 12,
      "outputs": [
        {
          "output_type": "stream",
          "name": "stdout",
          "text": [
            "Color Name--->Hex Code#RRGGBB\n",
            "lightsalmon--->#FFA07A\n",
            "salmon--->#FA8072\n",
            "darksalmon--->#E9967A\n",
            "lightcoral--->#F08080\n",
            "coral--->#FF7F50\n",
            "tomato--->#FF6347\n",
            "orangered--->#FF4500\n",
            "gold--->#FFD700\n",
            "orange--->#FFA500\n",
            "darkorange--->#FF8C00\n",
            "lightyellow--->#FFFFE0\n",
            "lemonchiffon--->#FFFACD\n",
            "papayawhip--->#FFEFD5\n",
            "moccasin--->#FFE4B5\n",
            "peachpuff--->#FFDAB9\n",
            "palegoldenrod--->#EEE8AA\n",
            "khaki--->#F0E68C\n",
            "darkkhaki--->#BDB76B\n",
            "yellow--->#FFFF00\n",
            "lawngreen--->#7CFC00\n",
            "chartreuse--->#7FFF00\n",
            "limegreen--->#32CD32\n",
            "lime--->#00FF00\n",
            "forestgreen--->#228B22\n",
            "green--->#008000\n",
            "powderblue--->#B0E0E6\n",
            "lightblue--->#ADD8E6\n",
            "lightskyblue--->#87CEFA\n",
            "skyblue--->#87CEEB\n",
            "deepskyblue--->#00BFFF\n",
            "lightsteelblue--->#B0C4DE\n",
            "dodgerblue--->#1E90FF\n"
          ]
        }
      ]
    },
    {
      "metadata": {
        "id": "2KceuVdUoEgX"
      },
      "cell_type": "markdown",
      "source": [
        "## Authors\n"
      ]
    },
    {
      "metadata": {
        "id": "hQ50uypMoEgX"
      },
      "cell_type": "markdown",
      "source": [
        "Ramesh Sannareddy\n"
      ]
    },
    {
      "metadata": {
        "id": "-3L6CTGboEgY"
      },
      "cell_type": "markdown",
      "source": [
        "### Other Contributors\n"
      ]
    },
    {
      "metadata": {
        "id": "Zp33VFnpoEgY"
      },
      "cell_type": "markdown",
      "source": [
        "Rav Ahuja\n"
      ]
    },
    {
      "metadata": {
        "id": "QGkzt0qtoEgZ"
      },
      "cell_type": "markdown",
      "source": [
        "## Change Log\n"
      ]
    },
    {
      "metadata": {
        "id": "H1KV28POoEgZ"
      },
      "cell_type": "markdown",
      "source": [
        "| Date (YYYY-MM-DD) | Version | Changed By        | Change Description                 |\n",
        "| ----------------- | ------- | ----------------- | ---------------------------------- |\n",
        "| 2020-10-17        | 0.1     | Ramesh Sannareddy | Created initial version of the lab |\n"
      ]
    },
    {
      "metadata": {
        "id": "p8IrEBFnoEgZ"
      },
      "cell_type": "markdown",
      "source": [
        "Copyright © 2020 IBM Corporation. This notebook and its source code are released under the terms of the [MIT License](https://cognitiveclass.ai/mit-license/?utm_medium=Exinfluencer&utm_source=Exinfluencer&utm_content=000026UJ&utm_term=10006555&utm_id=NA-SkillsNetwork-Channel-SkillsNetworkCoursesIBMDA0321ENSkillsNetwork21426264-2021-01-01).\n"
      ]
    }
  ],
  "metadata": {
    "kernelspec": {
      "name": "python3",
      "display_name": "Python 3.9",
      "language": "python"
    },
    "language_info": {
      "name": "python",
      "version": "3.9.7",
      "mimetype": "text/x-python",
      "codemirror_mode": {
        "name": "ipython",
        "version": 3
      },
      "pygments_lexer": "ipython3",
      "nbconvert_exporter": "python",
      "file_extension": ".py"
    },
    "colab": {
      "name": "webscraping review.ipynb",
      "provenance": [],
      "include_colab_link": true
    }
  },
  "nbformat": 4,
  "nbformat_minor": 0
}